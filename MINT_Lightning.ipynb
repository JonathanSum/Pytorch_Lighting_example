{
  "nbformat": 4,
  "nbformat_minor": 0,
  "metadata": {
    "colab": {
      "name": "Using Lightning.ipynb",
      "provenance": [],
      "collapsed_sections": [],
      "authorship_tag": "ABX9TyMWaYzMQQbJgCyD8wErPg3P",
      "include_colab_link": true
    },
    "kernelspec": {
      "name": "python3",
      "display_name": "Python 3"
    },
    "accelerator": "GPU",
    "widgets": {
      "application/vnd.jupyter.widget-state+json": {
        "0cd64396fad84d1087fa8a44e912075d": {
          "model_module": "@jupyter-widgets/controls",
          "model_name": "HBoxModel",
          "state": {
            "_view_name": "HBoxView",
            "_dom_classes": [],
            "_model_name": "HBoxModel",
            "_view_module": "@jupyter-widgets/controls",
            "_model_module_version": "1.5.0",
            "_view_count": null,
            "_view_module_version": "1.5.0",
            "box_style": "",
            "layout": "IPY_MODEL_a6e60bb0a8c64e62a1a29cfc147278f4",
            "_model_module": "@jupyter-widgets/controls",
            "children": [
              "IPY_MODEL_68f8a955334f4aca8b0c6d253427c4c7",
              "IPY_MODEL_687134ecd818448bb3b48fe10b3a2f16"
            ]
          }
        },
        "a6e60bb0a8c64e62a1a29cfc147278f4": {
          "model_module": "@jupyter-widgets/base",
          "model_name": "LayoutModel",
          "state": {
            "_view_name": "LayoutView",
            "grid_template_rows": null,
            "right": null,
            "justify_content": null,
            "_view_module": "@jupyter-widgets/base",
            "overflow": null,
            "_model_module_version": "1.2.0",
            "_view_count": null,
            "flex_flow": "row wrap",
            "width": "100%",
            "min_width": null,
            "border": null,
            "align_items": null,
            "bottom": null,
            "_model_module": "@jupyter-widgets/base",
            "top": null,
            "grid_column": null,
            "overflow_y": null,
            "overflow_x": null,
            "grid_auto_flow": null,
            "grid_area": null,
            "grid_template_columns": null,
            "flex": null,
            "_model_name": "LayoutModel",
            "justify_items": null,
            "grid_row": null,
            "max_height": null,
            "align_content": null,
            "visibility": null,
            "align_self": null,
            "height": null,
            "min_height": null,
            "padding": null,
            "grid_auto_rows": null,
            "grid_gap": null,
            "max_width": null,
            "order": null,
            "_view_module_version": "1.2.0",
            "grid_template_areas": null,
            "object_position": null,
            "object_fit": null,
            "grid_auto_columns": null,
            "margin": null,
            "display": "inline-flex",
            "left": null
          }
        },
        "68f8a955334f4aca8b0c6d253427c4c7": {
          "model_module": "@jupyter-widgets/controls",
          "model_name": "FloatProgressModel",
          "state": {
            "_view_name": "ProgressView",
            "style": "IPY_MODEL_00f9c5703dc84b17841b7a707a5634b7",
            "_dom_classes": [],
            "description": "Epoch 5:  99%",
            "_model_name": "FloatProgressModel",
            "bar_style": "danger",
            "max": 1875,
            "_view_module": "@jupyter-widgets/controls",
            "_model_module_version": "1.5.0",
            "value": 1860,
            "_view_count": null,
            "_view_module_version": "1.5.0",
            "orientation": "horizontal",
            "min": 0,
            "description_tooltip": null,
            "_model_module": "@jupyter-widgets/controls",
            "layout": "IPY_MODEL_2f4fe0975d05420395098dfd5b660e03"
          }
        },
        "687134ecd818448bb3b48fe10b3a2f16": {
          "model_module": "@jupyter-widgets/controls",
          "model_name": "HTMLModel",
          "state": {
            "_view_name": "HTMLView",
            "style": "IPY_MODEL_1218a14b71fa41cfacf0bdd6fb525bab",
            "_dom_classes": [],
            "description": "",
            "_model_name": "HTMLModel",
            "placeholder": "​",
            "_view_module": "@jupyter-widgets/controls",
            "_model_module_version": "1.5.0",
            "value": " 1860/1875 [00:30&lt;00:00, 60.17it/s, loss=0.047, v_num=10, train_acc=1]",
            "_view_count": null,
            "_view_module_version": "1.5.0",
            "description_tooltip": null,
            "_model_module": "@jupyter-widgets/controls",
            "layout": "IPY_MODEL_a799c8b91b4843609771fcac1e660b47"
          }
        },
        "00f9c5703dc84b17841b7a707a5634b7": {
          "model_module": "@jupyter-widgets/controls",
          "model_name": "ProgressStyleModel",
          "state": {
            "_view_name": "StyleView",
            "_model_name": "ProgressStyleModel",
            "description_width": "initial",
            "_view_module": "@jupyter-widgets/base",
            "_model_module_version": "1.5.0",
            "_view_count": null,
            "_view_module_version": "1.2.0",
            "bar_color": null,
            "_model_module": "@jupyter-widgets/controls"
          }
        },
        "2f4fe0975d05420395098dfd5b660e03": {
          "model_module": "@jupyter-widgets/base",
          "model_name": "LayoutModel",
          "state": {
            "_view_name": "LayoutView",
            "grid_template_rows": null,
            "right": null,
            "justify_content": null,
            "_view_module": "@jupyter-widgets/base",
            "overflow": null,
            "_model_module_version": "1.2.0",
            "_view_count": null,
            "flex_flow": null,
            "width": null,
            "min_width": null,
            "border": null,
            "align_items": null,
            "bottom": null,
            "_model_module": "@jupyter-widgets/base",
            "top": null,
            "grid_column": null,
            "overflow_y": null,
            "overflow_x": null,
            "grid_auto_flow": null,
            "grid_area": null,
            "grid_template_columns": null,
            "flex": "2",
            "_model_name": "LayoutModel",
            "justify_items": null,
            "grid_row": null,
            "max_height": null,
            "align_content": null,
            "visibility": null,
            "align_self": null,
            "height": null,
            "min_height": null,
            "padding": null,
            "grid_auto_rows": null,
            "grid_gap": null,
            "max_width": null,
            "order": null,
            "_view_module_version": "1.2.0",
            "grid_template_areas": null,
            "object_position": null,
            "object_fit": null,
            "grid_auto_columns": null,
            "margin": null,
            "display": null,
            "left": null
          }
        },
        "1218a14b71fa41cfacf0bdd6fb525bab": {
          "model_module": "@jupyter-widgets/controls",
          "model_name": "DescriptionStyleModel",
          "state": {
            "_view_name": "StyleView",
            "_model_name": "DescriptionStyleModel",
            "description_width": "",
            "_view_module": "@jupyter-widgets/base",
            "_model_module_version": "1.5.0",
            "_view_count": null,
            "_view_module_version": "1.2.0",
            "_model_module": "@jupyter-widgets/controls"
          }
        },
        "a799c8b91b4843609771fcac1e660b47": {
          "model_module": "@jupyter-widgets/base",
          "model_name": "LayoutModel",
          "state": {
            "_view_name": "LayoutView",
            "grid_template_rows": null,
            "right": null,
            "justify_content": null,
            "_view_module": "@jupyter-widgets/base",
            "overflow": null,
            "_model_module_version": "1.2.0",
            "_view_count": null,
            "flex_flow": null,
            "width": null,
            "min_width": null,
            "border": null,
            "align_items": null,
            "bottom": null,
            "_model_module": "@jupyter-widgets/base",
            "top": null,
            "grid_column": null,
            "overflow_y": null,
            "overflow_x": null,
            "grid_auto_flow": null,
            "grid_area": null,
            "grid_template_columns": null,
            "flex": null,
            "_model_name": "LayoutModel",
            "justify_items": null,
            "grid_row": null,
            "max_height": null,
            "align_content": null,
            "visibility": null,
            "align_self": null,
            "height": null,
            "min_height": null,
            "padding": null,
            "grid_auto_rows": null,
            "grid_gap": null,
            "max_width": null,
            "order": null,
            "_view_module_version": "1.2.0",
            "grid_template_areas": null,
            "object_position": null,
            "object_fit": null,
            "grid_auto_columns": null,
            "margin": null,
            "display": null,
            "left": null
          }
        }
      }
    }
  },
  "cells": [
    {
      "cell_type": "markdown",
      "metadata": {
        "id": "view-in-github",
        "colab_type": "text"
      },
      "source": [
        "<a href=\"https://colab.research.google.com/github/JonathanSum/Pytorch_Lighting_example/blob/master/Using_Lightning.ipynb\" target=\"_parent\"><img src=\"https://colab.research.google.com/assets/colab-badge.svg\" alt=\"Open In Colab\"/></a>"
      ]
    },
    {
      "cell_type": "code",
      "metadata": {
        "id": "_Z9FMdq8pGQf",
        "colab_type": "code",
        "colab": {}
      },
      "source": [
        "import numpy as np"
      ],
      "execution_count": 1,
      "outputs": []
    },
    {
      "cell_type": "code",
      "metadata": {
        "id": "RorJ6XnllGaJ",
        "colab_type": "code",
        "colab": {
          "base_uri": "https://localhost:8080/",
          "height": 67
        },
        "outputId": "22287007-f26f-47d9-c01f-9b864bae323c"
      },
      "source": [
        "x = np.array([[1,2,3],[4,5,6],[7,8,9]]); print(x);"
      ],
      "execution_count": null,
      "outputs": [
        {
          "output_type": "stream",
          "text": [
            "[[1 2 3]\n",
            " [4 5 6]\n",
            " [7 8 9]]\n"
          ],
          "name": "stdout"
        }
      ]
    },
    {
      "cell_type": "code",
      "metadata": {
        "id": "CSmEk5fopFcx",
        "colab_type": "code",
        "colab": {}
      },
      "source": [
        "# a1, a2 = np.split(x,1,axis=-1)"
      ],
      "execution_count": null,
      "outputs": []
    },
    {
      "cell_type": "code",
      "metadata": {
        "id": "Bs_JdAavpTkh",
        "colab_type": "code",
        "colab": {}
      },
      "source": [
        "import torch\n",
        "from torch import nn\n",
        "from torch import optim\n",
        "from torchvision import datasets\n",
        "from torchvision import transforms\n",
        "from torch.utils.data import random_split, DataLoader\n"
      ],
      "execution_count": null,
      "outputs": []
    },
    {
      "cell_type": "code",
      "metadata": {
        "id": "pr5iU1v95Uwa",
        "colab_type": "code",
        "colab": {
          "base_uri": "https://localhost:8080/",
          "height": 927
        },
        "outputId": "2ebb2e86-a254-482a-f4f3-2827e14fa57a"
      },
      "source": [
        "pip install pytorch-lightning"
      ],
      "execution_count": null,
      "outputs": [
        {
          "output_type": "stream",
          "text": [
            "Collecting pytorch-lightning\n",
            "\u001b[?25l  Downloading https://files.pythonhosted.org/packages/32/64/65a5bd6b0c286217f2e53bb067c4099c0584a8eff1d229046b9a35ae3e26/pytorch_lightning-0.8.5-py3-none-any.whl (313kB)\n",
            "\u001b[K     |████████████████████████████████| 317kB 2.5MB/s \n",
            "\u001b[?25hRequirement already satisfied: numpy>=1.16.4 in /usr/local/lib/python3.6/dist-packages (from pytorch-lightning) (1.18.5)\n",
            "Requirement already satisfied: torch>=1.3 in /usr/local/lib/python3.6/dist-packages (from pytorch-lightning) (1.6.0+cu101)\n",
            "Collecting future>=0.17.1\n",
            "\u001b[?25l  Downloading https://files.pythonhosted.org/packages/45/0b/38b06fd9b92dc2b68d58b75f900e97884c45bedd2ff83203d933cf5851c9/future-0.18.2.tar.gz (829kB)\n",
            "\u001b[K     |████████████████████████████████| 829kB 8.4MB/s \n",
            "\u001b[?25hRequirement already satisfied: tensorboard>=1.14 in /usr/local/lib/python3.6/dist-packages (from pytorch-lightning) (2.3.0)\n",
            "Collecting PyYAML>=5.1\n",
            "\u001b[?25l  Downloading https://files.pythonhosted.org/packages/64/c2/b80047c7ac2478f9501676c988a5411ed5572f35d1beff9cae07d321512c/PyYAML-5.3.1.tar.gz (269kB)\n",
            "\u001b[K     |████████████████████████████████| 276kB 17.5MB/s \n",
            "\u001b[?25hRequirement already satisfied: tqdm>=4.41.0 in /usr/local/lib/python3.6/dist-packages (from pytorch-lightning) (4.41.1)\n",
            "Requirement already satisfied: tensorboard-plugin-wit>=1.6.0 in /usr/local/lib/python3.6/dist-packages (from tensorboard>=1.14->pytorch-lightning) (1.7.0)\n",
            "Requirement already satisfied: werkzeug>=0.11.15 in /usr/local/lib/python3.6/dist-packages (from tensorboard>=1.14->pytorch-lightning) (1.0.1)\n",
            "Requirement already satisfied: protobuf>=3.6.0 in /usr/local/lib/python3.6/dist-packages (from tensorboard>=1.14->pytorch-lightning) (3.12.4)\n",
            "Requirement already satisfied: six>=1.10.0 in /usr/local/lib/python3.6/dist-packages (from tensorboard>=1.14->pytorch-lightning) (1.15.0)\n",
            "Requirement already satisfied: grpcio>=1.24.3 in /usr/local/lib/python3.6/dist-packages (from tensorboard>=1.14->pytorch-lightning) (1.31.0)\n",
            "Requirement already satisfied: setuptools>=41.0.0 in /usr/local/lib/python3.6/dist-packages (from tensorboard>=1.14->pytorch-lightning) (49.2.0)\n",
            "Requirement already satisfied: wheel>=0.26; python_version >= \"3\" in /usr/local/lib/python3.6/dist-packages (from tensorboard>=1.14->pytorch-lightning) (0.34.2)\n",
            "Requirement already satisfied: absl-py>=0.4 in /usr/local/lib/python3.6/dist-packages (from tensorboard>=1.14->pytorch-lightning) (0.9.0)\n",
            "Requirement already satisfied: google-auth<2,>=1.6.3 in /usr/local/lib/python3.6/dist-packages (from tensorboard>=1.14->pytorch-lightning) (1.17.2)\n",
            "Requirement already satisfied: markdown>=2.6.8 in /usr/local/lib/python3.6/dist-packages (from tensorboard>=1.14->pytorch-lightning) (3.2.2)\n",
            "Requirement already satisfied: requests<3,>=2.21.0 in /usr/local/lib/python3.6/dist-packages (from tensorboard>=1.14->pytorch-lightning) (2.23.0)\n",
            "Requirement already satisfied: google-auth-oauthlib<0.5,>=0.4.1 in /usr/local/lib/python3.6/dist-packages (from tensorboard>=1.14->pytorch-lightning) (0.4.1)\n",
            "Requirement already satisfied: rsa<5,>=3.1.4; python_version >= \"3\" in /usr/local/lib/python3.6/dist-packages (from google-auth<2,>=1.6.3->tensorboard>=1.14->pytorch-lightning) (4.6)\n",
            "Requirement already satisfied: pyasn1-modules>=0.2.1 in /usr/local/lib/python3.6/dist-packages (from google-auth<2,>=1.6.3->tensorboard>=1.14->pytorch-lightning) (0.2.8)\n",
            "Requirement already satisfied: cachetools<5.0,>=2.0.0 in /usr/local/lib/python3.6/dist-packages (from google-auth<2,>=1.6.3->tensorboard>=1.14->pytorch-lightning) (4.1.1)\n",
            "Requirement already satisfied: importlib-metadata; python_version < \"3.8\" in /usr/local/lib/python3.6/dist-packages (from markdown>=2.6.8->tensorboard>=1.14->pytorch-lightning) (1.7.0)\n",
            "Requirement already satisfied: urllib3!=1.25.0,!=1.25.1,<1.26,>=1.21.1 in /usr/local/lib/python3.6/dist-packages (from requests<3,>=2.21.0->tensorboard>=1.14->pytorch-lightning) (1.24.3)\n",
            "Requirement already satisfied: chardet<4,>=3.0.2 in /usr/local/lib/python3.6/dist-packages (from requests<3,>=2.21.0->tensorboard>=1.14->pytorch-lightning) (3.0.4)\n",
            "Requirement already satisfied: idna<3,>=2.5 in /usr/local/lib/python3.6/dist-packages (from requests<3,>=2.21.0->tensorboard>=1.14->pytorch-lightning) (2.10)\n",
            "Requirement already satisfied: certifi>=2017.4.17 in /usr/local/lib/python3.6/dist-packages (from requests<3,>=2.21.0->tensorboard>=1.14->pytorch-lightning) (2020.6.20)\n",
            "Requirement already satisfied: requests-oauthlib>=0.7.0 in /usr/local/lib/python3.6/dist-packages (from google-auth-oauthlib<0.5,>=0.4.1->tensorboard>=1.14->pytorch-lightning) (1.3.0)\n",
            "Requirement already satisfied: pyasn1>=0.1.3 in /usr/local/lib/python3.6/dist-packages (from rsa<5,>=3.1.4; python_version >= \"3\"->google-auth<2,>=1.6.3->tensorboard>=1.14->pytorch-lightning) (0.4.8)\n",
            "Requirement already satisfied: zipp>=0.5 in /usr/local/lib/python3.6/dist-packages (from importlib-metadata; python_version < \"3.8\"->markdown>=2.6.8->tensorboard>=1.14->pytorch-lightning) (3.1.0)\n",
            "Requirement already satisfied: oauthlib>=3.0.0 in /usr/local/lib/python3.6/dist-packages (from requests-oauthlib>=0.7.0->google-auth-oauthlib<0.5,>=0.4.1->tensorboard>=1.14->pytorch-lightning) (3.1.0)\n",
            "Building wheels for collected packages: future, PyYAML\n",
            "  Building wheel for future (setup.py) ... \u001b[?25l\u001b[?25hdone\n",
            "  Created wheel for future: filename=future-0.18.2-cp36-none-any.whl size=491057 sha256=6a6bdc270abe2283ded8ae8108f733ebfb69e554b0beb58f4757f7387aefe2ca\n",
            "  Stored in directory: /root/.cache/pip/wheels/8b/99/a0/81daf51dcd359a9377b110a8a886b3895921802d2fc1b2397e\n",
            "  Building wheel for PyYAML (setup.py) ... \u001b[?25l\u001b[?25hdone\n",
            "  Created wheel for PyYAML: filename=PyYAML-5.3.1-cp36-cp36m-linux_x86_64.whl size=44621 sha256=b47f80e906369bfb2fd8a9812e2dde85517452e074bc01c3fc713110e617d6c8\n",
            "  Stored in directory: /root/.cache/pip/wheels/a7/c1/ea/cf5bd31012e735dc1dfea3131a2d5eae7978b251083d6247bd\n",
            "Successfully built future PyYAML\n",
            "Installing collected packages: future, PyYAML, pytorch-lightning\n",
            "  Found existing installation: future 0.16.0\n",
            "    Uninstalling future-0.16.0:\n",
            "      Successfully uninstalled future-0.16.0\n",
            "  Found existing installation: PyYAML 3.13\n",
            "    Uninstalling PyYAML-3.13:\n",
            "      Successfully uninstalled PyYAML-3.13\n",
            "Successfully installed PyYAML-5.3.1 future-0.18.2 pytorch-lightning-0.8.5\n"
          ],
          "name": "stdout"
        }
      ]
    },
    {
      "cell_type": "markdown",
      "metadata": {
        "id": "HYeB6KEL6Cg2",
        "colab_type": "text"
      },
      "source": [
        "---\n",
        "# PyTorch Lightning\n",
        "\n",
        "\n",
        "1. model\n",
        "2. optimizer\n",
        "3. data\n",
        "4. training loop \"the magic\"\n",
        "5. validation loop \"the validation magic\""
      ]
    },
    {
      "cell_type": "code",
      "metadata": {
        "id": "Z7KphFA59Ud3",
        "colab_type": "code",
        "colab": {}
      },
      "source": [
        "import pytorch_lightning as pl\n",
        "from pytorch_lightning.metrics.functional import accuracy\n",
        "class ResNet(pl.LightningModule):\n",
        "    def __init__(self):\n",
        "      super().__init__()\n",
        "      self.l1 = nn.Linear(28*28, 64)\n",
        "      self.l2 = nn.Linear(64, 64)\n",
        "      self.l3 = nn.Linear(64, 10)\n",
        "      self.do = nn.Dropout(0.1)\n",
        "\n",
        "      self.loss = nn.CrossEntropyLoss()\n",
        "\n",
        "    def forward(self, x):\n",
        "      h1 = nn.functional.relu(self.l1(x))\n",
        "      h2 = nn.functional.relu(self.l2(h1))\n",
        "      # print(\"Debugging: \",h1.shape, \" \",h2.shape)\n",
        "      do = self.do(h2 + h1)\n",
        "      logits = self.l3(do)\n",
        "      return logits\n",
        "\n",
        "    def configure_optimizers(self):\n",
        "      # params = model.parameters()\n",
        "      optimizer = optim.SGD(self.parameters(), lr=1e-2)\n",
        "      return optimizer\n",
        "\n",
        "    def training_step(self, batch, batch_idx):\n",
        "      x, y = batch\n",
        "      b = x.size(0)\n",
        "      x = x.view(b, -1)       #send x to cuda after creating the Resnet because it was definded on CPU\n",
        "\n",
        "      # 1 forward\n",
        "      logits = self(x)  #logits: logits\n",
        "\n",
        "      # 2\n",
        "      J = self.loss(logits, y)           #y here too\n",
        "\n",
        "      acc = accuracy(logits, y)\n",
        "\n",
        "      pbar = {'train_acc':acc}\n",
        "      return {'loss': J, 'progress_bar': pbar}\n",
        "      # return J\n",
        "\n",
        "    def validation_step(self, batch, batch_idx):\n",
        "      results = self.training_step(batch, batch_idx)\n",
        "      results['progress_bar']['val_acc'] = results['progress_bar']['train_acc']\n",
        "      del results['progress_bar']['train_acc']\n",
        "      return results\n",
        "\n",
        "    def validation_epoch_end(self, val_step_outputs):\n",
        "      avg_val_loss = torch.tensor([x['loss'] for x in val_step_outputs]).mean()\n",
        "      avg_val_acc = torch.tensor([x['progress_bar']['val_acc'] for x in val_step_outputs]).mean()\n",
        "      pbar = {'avg_val_acc':avg_val_acc}\n",
        "      return {'val_loss': avg_val_loss, 'progress_bar': pbar}\n",
        "      \n",
        "    def prepare_data(self):\n",
        "      datasets.MNIST('data', train=True, download = True, transform=transform.ToTensor())\n",
        "\n",
        "    def setup(self):\n",
        "      dataset = datasets.MNIST('data', train = True, download=False, transform=transform.ToTensor())\n",
        "      self.train, self.val = random_split(train_data, [55000, 5000])\n",
        "\n",
        "\n",
        "    def train_dataloader(self):\n",
        "      # train_data = datasets.MNIST(\"data\", train = False, download = True, transform = transforms.ToTensor())\n",
        "      # print(len(train_data))\n",
        "      # train_loader = DataLoader(train, batch_size = 32)\n",
        "      train_loader = DataLoader(self.train, batch_size = 32)\n",
        "      # val_loader = DataLoader(val, batch_size = 32)\n",
        "      return train_loader \n",
        "\n",
        "    def val_dataloader(self):\n",
        "      vail_loader = DataLoader(self.val, batch_size = 32\n",
        "      return vail_loader \n",
        "\n",
        "model = ResNet()"
      ],
      "execution_count": null,
      "outputs": []
    },
    {
      "cell_type": "code",
      "metadata": {
        "id": "DgePnOvxN5OT",
        "colab_type": "code",
        "colab": {
          "base_uri": "https://localhost:8080/",
          "height": 267,
          "referenced_widgets": [
            "0cd64396fad84d1087fa8a44e912075d",
            "a6e60bb0a8c64e62a1a29cfc147278f4",
            "68f8a955334f4aca8b0c6d253427c4c7",
            "687134ecd818448bb3b48fe10b3a2f16",
            "00f9c5703dc84b17841b7a707a5634b7",
            "2f4fe0975d05420395098dfd5b660e03",
            "1218a14b71fa41cfacf0bdd6fb525bab",
            "a799c8b91b4843609771fcac1e660b47"
          ]
        },
        "outputId": "b0f35d59-1107-4afd-8a31-4d514c88c586"
      },
      "source": [
        "trainer = pl.Trainer(progress_bar_refresh_rate=20, max_epochs=5, gpus=1)\n",
        "trainer.fit(model)"
      ],
      "execution_count": null,
      "outputs": [
        {
          "output_type": "stream",
          "text": [
            "GPU available: True, used: True\n",
            "TPU available: False, using: 0 TPU cores\n",
            "CUDA_VISIBLE_DEVICES: [0]\n",
            "\n",
            "  | Name | Type             | Params\n",
            "------------------------------------------\n",
            "0 | l1   | Linear           | 50 K  \n",
            "1 | l2   | Linear           | 4 K   \n",
            "2 | l3   | Linear           | 650   \n",
            "3 | do   | Dropout          | 0     \n",
            "4 | loss | CrossEntropyLoss | 0     \n"
          ],
          "name": "stderr"
        },
        {
          "output_type": "display_data",
          "data": {
            "application/vnd.jupyter.widget-view+json": {
              "model_id": "0cd64396fad84d1087fa8a44e912075d",
              "version_minor": 0,
              "version_major": 2
            },
            "text/plain": [
              "HBox(children=(FloatProgress(value=1.0, bar_style='info', description='Training', layout=Layout(flex='2'), max…"
            ]
          },
          "metadata": {
            "tags": []
          }
        },
        {
          "output_type": "stream",
          "text": [
            "\n"
          ],
          "name": "stdout"
        },
        {
          "output_type": "execute_result",
          "data": {
            "text/plain": [
              "1"
            ]
          },
          "metadata": {
            "tags": []
          },
          "execution_count": 12
        }
      ]
    },
    {
      "cell_type": "code",
      "metadata": {
        "id": "k2B_SN0756bd",
        "colab_type": "code",
        "colab": {}
      },
      "source": [
        "class ImageClassifier(nn.Module):\n",
        "  def __init__(self):\n",
        "    self.resnet = ResNet()"
      ],
      "execution_count": null,
      "outputs": []
    },
    {
      "cell_type": "code",
      "metadata": {
        "id": "fURBuTKhthcA",
        "colab_type": "code",
        "colab": {}
      },
      "source": [
        "model = nn.Sequential(\n",
        "    nn.Linear(28*28, 64),\n",
        "    nn.ReLU(),\n",
        "    nn.Linear(64, 64),\n",
        "    nn.ReLU(),\n",
        "    nn.Linear(64, 10)\n",
        ")"
      ],
      "execution_count": null,
      "outputs": []
    },
    {
      "cell_type": "code",
      "metadata": {
        "id": "SuWx462euC5R",
        "colab_type": "code",
        "colab": {}
      },
      "source": [
        "optimiser = optim.SGD(model.parameters(), lr=1e-2)\n",
        "loss = nn.CrossEntropyLoss()"
      ],
      "execution_count": null,
      "outputs": []
    },
    {
      "cell_type": "code",
      "metadata": {
        "id": "wBnI0vihzT2V",
        "colab_type": "code",
        "colab": {
          "base_uri": "https://localhost:8080/",
          "height": 34
        },
        "outputId": "12f2ae66-fd1d-414a-dfee-0b5cfbb4124e"
      },
      "source": [
        "train_data = datasets.MNIST(\"data\", train = True, download = True, transform = transforms.ToTensor())\n",
        "print(len(train_data))\n",
        "train, val = random_split(train_data, [55000, 5000])\n",
        "train_loader = DataLoader(train, batch_size = 32)\n",
        "val_loader = DataLoader(val, batch_size = 32)"
      ],
      "execution_count": null,
      "outputs": [
        {
          "output_type": "stream",
          "text": [
            "60000\n"
          ],
          "name": "stdout"
        }
      ]
    },
    {
      "cell_type": "code",
      "metadata": {
        "id": "rckRZgxuud6R",
        "colab_type": "code",
        "colab": {
          "base_uri": "https://localhost:8080/",
          "height": 269
        },
        "outputId": "3da4c253-73b0-4dd1-d540-e8b037829300"
      },
      "source": [
        "nb_epochs = 5\n",
        "for epoch in range(nb_epochs):\n",
        "  losses = list()\n",
        "  accuracies = list()\n",
        "  for batch in train_loader:\n",
        "    #x: b x 1x 28 x 28\n",
        "    x, y = batch\n",
        "    b = x.size(0)\n",
        "    x = x.view(b, -1)       #send x to cuda after creating the Resnet because it was definded on CPU\n",
        "\n",
        "    # 1 forward\n",
        "    l = model(x)  #l: logits\n",
        "\n",
        "    # 2\n",
        "    J = loss(l, y)           #y here too\n",
        "\n",
        "    # 3 cleaning the gradients\n",
        "    model.zero_grad()\n",
        "    # optimiser.zero_grad()\n",
        "    # params.grad._zero()\n",
        "\n",
        "    # 4 accumulate the partial derivative of J with respect to param\n",
        "    J.backward()\n",
        "\n",
        "\n",
        "    # 5 step in the opposite direction of the gradient\n",
        "    optimiser.step()\n",
        "    # with torch.no_grad(): params = params - eta * params.grad\n",
        "    losses.append(J.item())\n",
        "    # accuracies.append(y.eq(l.detch().argmax(dim=1)).float().mean())\n",
        "    #accuracies.append(y.eq(l.detch().argmax(dim=1).cpu()).float().mean())\n",
        "    # accuracies.append(y.eq(l.detch().argmax(dim=1)).float().mean())\n",
        "\n",
        "  print(f'Epoch {epoch + 1}, train loss: {torch.tensor(losses).mean():.2f}')\n",
        "\n",
        "# model.eval()\n",
        "\n",
        "  losses = list()\n",
        "  # for epoch in range(nb_epochs):\n",
        "\n",
        "  # accuracies = list()\n",
        "  for batch in val_loader:\n",
        "    #x: b x 1x 28 x 28\n",
        "    x, y = batch\n",
        "    b = x.size(0)\n",
        "    x = x.view(b, -1)\n",
        "\n",
        "    # 1 forward \n",
        "    with torch.no_grad():\n",
        "        l = model(x)  #l: logits\n",
        "\n",
        "    # 2\n",
        "    J = loss(l, y)\n",
        "\n",
        "    losses.append(J.item())\n",
        "    accuracies.append(y.eq(l.argmax(dim=1).cpu()).float().mean())\n",
        "\n",
        "  print(f'Epoch {epoch + 1}, validation loss: {torch.tensor(losses).mean():.2f}')\n",
        "  print(f'Epoch {epoch + 1}, validation accuracies: {torch.tensor(accuracies).mean():.2f}')"
      ],
      "execution_count": null,
      "outputs": [
        {
          "output_type": "stream",
          "text": [
            "Epoch 1, train loss: 1.21\n",
            "Epoch 1, validation loss: 1.15\n",
            "Epoch 1, validation accuracies: 0.86\n",
            "Epoch 2, train loss: 0.40\n",
            "Epoch 2, validation loss: 0.39\n",
            "Epoch 2, validation accuracies: 0.90\n",
            "Epoch 3, train loss: 0.32\n",
            "Epoch 3, validation loss: 0.31\n",
            "Epoch 3, validation accuracies: 0.91\n",
            "Epoch 4, train loss: 0.28\n",
            "Epoch 4, validation loss: 0.28\n",
            "Epoch 4, validation accuracies: 0.92\n",
            "Epoch 5, train loss: 0.25\n",
            "Epoch 5, validation loss: 0.25\n",
            "Epoch 5, validation accuracies: 0.93\n"
          ],
          "name": "stdout"
        }
      ]
    },
    {
      "cell_type": "code",
      "metadata": {
        "id": "0X9DTyeR-6Y3",
        "colab_type": "code",
        "colab": {}
      },
      "source": [
        "# nn.Linear(28*28, 64),\n",
        "# nn.ReLU(),\n",
        "# nn.Linear(64, 64),\n",
        "# nn.ReLU(),\n",
        "# nn.Linear(64, 10)\n",
        "\n",
        "\n",
        "class ResNet(nn.Module):\n",
        "  def __init__(self):\n",
        "    super().__init__()\n",
        "    self.l1 = nn.Linear(28*28, 64)\n",
        "    self.l2 = nn.Linear(64, 64)\n",
        "    self.l3 = nn.Linear(64, 10)\n",
        "    self.do = nn.Dropout(0.1)\n",
        "  def forward(self, x):\n",
        "    h1 = nn.functional.relu(self.l1(x))\n",
        "    h2 = nn.functional.relu(self.l2(h1))\n",
        "    # print(\"Debugging: \",h1.shape, \" \",h2.shape)\n",
        "    do = self.do(h2 + h1)\n",
        "    logits = self.l3(do)\n",
        "    return logits\n",
        "model = ResNet()"
      ],
      "execution_count": null,
      "outputs": []
    },
    {
      "cell_type": "code",
      "metadata": {
        "id": "ChEu1Z0A1kad",
        "colab_type": "code",
        "colab": {}
      },
      "source": [
        ""
      ],
      "execution_count": null,
      "outputs": []
    },
    {
      "cell_type": "code",
      "metadata": {
        "id": "7SZ7V-zwu3Be",
        "colab_type": "code",
        "colab": {}
      },
      "source": [
        "params = model.parameters()\n",
        "optimiser = optim.SGD(model.parameters(), lr=1e-2)\n",
        "loss = nn.CrossEntropyLoss()"
      ],
      "execution_count": null,
      "outputs": []
    },
    {
      "cell_type": "code",
      "metadata": {
        "id": "RWFN0WY2ZJ4C",
        "colab_type": "code",
        "colab": {
          "base_uri": "https://localhost:8080/",
          "height": 353
        },
        "outputId": "059beaa1-1e4a-48f5-b829-4673777fa5c9"
      },
      "source": [
        "nb_epochs = 5\n",
        "for epoch in range(nb_epochs):\n",
        "  losses = list()\n",
        "  accuracies = list()\n",
        "  model.train()\n",
        "  for batch in train_loader:\n",
        "    #x: b x 1x 28 x 28\n",
        "    x, y = batch\n",
        "    b = x.size(0)\n",
        "    # print(\"Debugging  x.size(0): \", x.size(0))\n",
        "    # print(\"Debugging  x.view(b, -1): \",x.view(b, -1).shape)\n",
        "    x = x.view(b, -1)       #send x to cuda after creating the Resnet because it was definded on CPU\n",
        "\n",
        "    # 1 forward\n",
        "    l = model(x)  #l: logits\n",
        "\n",
        "    # 2\n",
        "    J = loss(l, y)           #y here too\n",
        "\n",
        "    # 3 cleaning the gradients\n",
        "    model.zero_grad()\n",
        "    # optimiser.zero_grad()\n",
        "    # params.grad._zero()\n",
        "\n",
        "    # 4 accumulate the partial derivative of J with respect to param\n",
        "    J.backward()\n",
        "\n",
        "\n",
        "    # 5 step in the opposite direction of the gradient\n",
        "    optimiser.step()\n",
        "    # with torch.no_grad(): params = params - eta * params.grad\n",
        "    losses.append(J.item())\n",
        "    # accuracies.append(y.eq(l.detch().argmax(dim=1)).float().mean())\n",
        "    accuracies.append(y.eq(l.argmax(dim=1).cpu()).float().mean())\n",
        "    # accuracies.append(y.eq(l.detch().argmax(dim=1)).float().mean())\n",
        "\n",
        "  print(f'Epoch {epoch + 1}, train loss: {torch.tensor(losses).mean():.2f}')\n",
        "  print(f'Epoch {epoch + 1}, train accuracies: {torch.tensor(accuracies).mean():.2f}')\n",
        "\n",
        "\n",
        "\n",
        "  losses = list()\n",
        "  accuracies = list()\n",
        "  model.eval()\n",
        "  # for epoch in range(nb_epochs):\n",
        "\n",
        "\n",
        "  for batch in val_loader:\n",
        "    #x: b x 1x 28 x 28\n",
        "    x, y = batch\n",
        "    b = x.size(0)\n",
        "    x = x.view(b, -1)\n",
        "\n",
        "    # 1 forward   \n",
        "    with torch.no_grad():\n",
        "        l = model(x)  #l: logits\n",
        "\n",
        "    # 2\n",
        "    J = loss(l, y)\n",
        "\n",
        "    losses.append(J.item())\n",
        "    accuracies.append(y.eq(l.argmax(dim=1).cpu()).float().mean())\n",
        "\n",
        "  print(f'Epoch {epoch + 1}, validation loss: {torch.tensor(losses).mean():.2f}')\n",
        "  print(f'Epoch {epoch + 1}, validation accuracies: {torch.tensor(accuracies).mean():.2f}')"
      ],
      "execution_count": null,
      "outputs": [
        {
          "output_type": "stream",
          "text": [
            "Epoch 1, train loss: 0.87\n",
            "Epoch 1, train accuracies: 0.77\n",
            "Epoch 1, validation loss: 0.40\n",
            "Epoch 1, validation accuracies: 0.89\n",
            "Epoch 2, train loss: 0.38\n",
            "Epoch 2, train accuracies: 0.89\n",
            "Epoch 2, validation loss: 0.31\n",
            "Epoch 2, validation accuracies: 0.91\n",
            "Epoch 3, train loss: 0.31\n",
            "Epoch 3, train accuracies: 0.91\n",
            "Epoch 3, validation loss: 0.26\n",
            "Epoch 3, validation accuracies: 0.92\n",
            "Epoch 4, train loss: 0.27\n",
            "Epoch 4, train accuracies: 0.92\n",
            "Epoch 4, validation loss: 0.23\n",
            "Epoch 4, validation accuracies: 0.93\n",
            "Epoch 5, train loss: 0.24\n",
            "Epoch 5, train accuracies: 0.93\n",
            "Epoch 5, validation loss: 0.21\n",
            "Epoch 5, validation accuracies: 0.94\n"
          ],
          "name": "stdout"
        }
      ]
    },
    {
      "cell_type": "code",
      "metadata": {
        "id": "N86UijKPbsP8",
        "colab_type": "code",
        "colab": {}
      },
      "source": [
        "class ResNet(nn.Module):\n",
        "    def __init__(self):\n",
        "        super().__init__()\n",
        "        self.l1 = nn.Linear(28 * 28, 64)\n",
        "        self.l2 = nn.Linear(64, 64)\n",
        "        self.l3 = nn.Linear(64, 10)\n",
        "        self.do = nn.Dropout(0.1)\n",
        "\n",
        "    def forward(self, x):\n",
        "        h1 = nn.functional.relu(self.l1(x))\n",
        "        h2 = nn.functional.relu(self.l2(h1))\n",
        "        do = self.do(h2 + h1)\n",
        "        logits = self.l3(do)\n",
        "        return logits\n",
        "model = ResNet()\n"
      ],
      "execution_count": null,
      "outputs": []
    }
  ]
}
