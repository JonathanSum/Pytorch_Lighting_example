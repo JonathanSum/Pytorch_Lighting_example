{
  "nbformat": 4,
  "nbformat_minor": 0,
  "metadata": {
    "colab": {
      "name": "Lightning.ipynb",
      "provenance": [],
      "collapsed_sections": [],
      "authorship_tag": "ABX9TyPp0nTwshVHINUrus0zEqAj",
      "include_colab_link": true
    },
    "kernelspec": {
      "name": "python3",
      "display_name": "Python 3"
    },
    "accelerator": "GPU"
  },
  "cells": [
    {
      "cell_type": "markdown",
      "metadata": {
        "id": "view-in-github",
        "colab_type": "text"
      },
      "source": [
        "<a href=\"https://colab.research.google.com/github/JonathanSum/Pytorch_Lighting_example/blob/master/Lightning2.ipynb\" target=\"_parent\"><img src=\"https://colab.research.google.com/assets/colab-badge.svg\" alt=\"Open In Colab\"/></a>"
      ]
    },
    {
      "cell_type": "code",
      "metadata": {
        "id": "_Z9FMdq8pGQf",
        "colab_type": "code",
        "colab": {}
      },
      "source": [
        "import numpy as np"
      ],
      "execution_count": null,
      "outputs": []
    },
    {
      "cell_type": "code",
      "metadata": {
        "id": "RorJ6XnllGaJ",
        "colab_type": "code",
        "colab": {
          "base_uri": "https://localhost:8080/",
          "height": 67
        },
        "outputId": "22287007-f26f-47d9-c01f-9b864bae323c"
      },
      "source": [
        "x = np.array([[1,2,3],[4,5,6],[7,8,9]]); print(x);"
      ],
      "execution_count": null,
      "outputs": [
        {
          "output_type": "stream",
          "text": [
            "[[1 2 3]\n",
            " [4 5 6]\n",
            " [7 8 9]]\n"
          ],
          "name": "stdout"
        }
      ]
    },
    {
      "cell_type": "code",
      "metadata": {
        "id": "CSmEk5fopFcx",
        "colab_type": "code",
        "colab": {}
      },
      "source": [
        "# a1, a2 = np.split(x,1,axis=-1)"
      ],
      "execution_count": null,
      "outputs": []
    },
    {
      "cell_type": "code",
      "metadata": {
        "id": "Bs_JdAavpTkh",
        "colab_type": "code",
        "colab": {}
      },
      "source": [
        "import torch\n",
        "from torch import nn\n",
        "from torch import optim\n",
        "from torchvision import datasets\n",
        "from torchvision import transforms\n",
        "from torch.utils.data import random_split, DataLoader\n"
      ],
      "execution_count": null,
      "outputs": []
    },
    {
      "cell_type": "code",
      "metadata": {
        "id": "fURBuTKhthcA",
        "colab_type": "code",
        "colab": {}
      },
      "source": [
        "model = nn.Sequential(\n",
        "    nn.Linear(28*28, 64),\n",
        "    nn.ReLU(),\n",
        "    nn.Linear(64, 64),\n",
        "    nn.ReLU(),\n",
        "    nn.Linear(64, 10)\n",
        ")"
      ],
      "execution_count": null,
      "outputs": []
    },
    {
      "cell_type": "code",
      "metadata": {
        "id": "SuWx462euC5R",
        "colab_type": "code",
        "colab": {}
      },
      "source": [
        "optimiser = optim.SGD(model.parameters(), lr=1e-2)\n",
        "loss = nn.CrossEntropyLoss()"
      ],
      "execution_count": null,
      "outputs": []
    },
    {
      "cell_type": "code",
      "metadata": {
        "id": "wBnI0vihzT2V",
        "colab_type": "code",
        "colab": {
          "base_uri": "https://localhost:8080/",
          "height": 34
        },
        "outputId": "12f2ae66-fd1d-414a-dfee-0b5cfbb4124e"
      },
      "source": [
        "train_data = datasets.MNIST(\"data\", train = True, download = True, transform = transforms.ToTensor())\n",
        "print(len(train_data))\n",
        "train, val = random_split(train_data, [55000, 5000])\n",
        "train_loader = DataLoader(train, batch_size = 32)\n",
        "val_loader = DataLoader(val, batch_size = 32)"
      ],
      "execution_count": null,
      "outputs": [
        {
          "output_type": "stream",
          "text": [
            "60000\n"
          ],
          "name": "stdout"
        }
      ]
    },
    {
      "cell_type": "code",
      "metadata": {
        "id": "rckRZgxuud6R",
        "colab_type": "code",
        "colab": {
          "base_uri": "https://localhost:8080/",
          "height": 269
        },
        "outputId": "3da4c253-73b0-4dd1-d540-e8b037829300"
      },
      "source": [
        "nb_epochs = 5\n",
        "for epoch in range(nb_epochs):\n",
        "  losses = list()\n",
        "  accuracies = list()\n",
        "  for batch in train_loader:\n",
        "    #x: b x 1x 28 x 28\n",
        "    x, y = batch\n",
        "    b = x.size(0)\n",
        "    x = x.view(b, -1)       #send x to cuda after creating the Resnet because it was definded on CPU\n",
        "\n",
        "    # 1 forward\n",
        "    l = model(x)  #l: logits\n",
        "\n",
        "    # 2\n",
        "    J = loss(l, y)           #y here too\n",
        "\n",
        "    # 3 cleaning the gradients\n",
        "    model.zero_grad()\n",
        "    # optimiser.zero_grad()\n",
        "    # params.grad._zero()\n",
        "\n",
        "    # 4 accumulate the partial derivative of J with respect to param\n",
        "    J.backward()\n",
        "\n",
        "\n",
        "    # 5 step in the opposite direction of the gradient\n",
        "    optimiser.step()\n",
        "    # with torch.no_grad(): params = params - eta * params.grad\n",
        "    losses.append(J.item())\n",
        "    # accuracies.append(y.eq(l.detch().argmax(dim=1)).float().mean())\n",
        "    #accuracies.append(y.eq(l.detch().argmax(dim=1).cpu()).float().mean())\n",
        "    # accuracies.append(y.eq(l.detch().argmax(dim=1)).float().mean())\n",
        "\n",
        "  print(f'Epoch {epoch + 1}, train loss: {torch.tensor(losses).mean():.2f}')\n",
        "\n",
        "# model.eval()\n",
        "\n",
        "  losses = list()\n",
        "  # for epoch in range(nb_epochs):\n",
        "\n",
        "  # accuracies = list()\n",
        "  for batch in val_loader:\n",
        "    #x: b x 1x 28 x 28\n",
        "    x, y = batch\n",
        "    b = x.size(0)\n",
        "    x = x.view(b, -1)\n",
        "\n",
        "    # 1 forward \n",
        "    with torch.no_grad():\n",
        "        l = model(x)  #l: logits\n",
        "\n",
        "    # 2\n",
        "    J = loss(l, y)\n",
        "\n",
        "    losses.append(J.item())\n",
        "    accuracies.append(y.eq(l.argmax(dim=1).cpu()).float().mean())\n",
        "\n",
        "  print(f'Epoch {epoch + 1}, validation loss: {torch.tensor(losses).mean():.2f}')\n",
        "  print(f'Epoch {epoch + 1}, validation accuracies: {torch.tensor(accuracies).mean():.2f}')"
      ],
      "execution_count": null,
      "outputs": [
        {
          "output_type": "stream",
          "text": [
            "Epoch 1, train loss: 1.21\n",
            "Epoch 1, validation loss: 1.15\n",
            "Epoch 1, validation accuracies: 0.86\n",
            "Epoch 2, train loss: 0.40\n",
            "Epoch 2, validation loss: 0.39\n",
            "Epoch 2, validation accuracies: 0.90\n",
            "Epoch 3, train loss: 0.32\n",
            "Epoch 3, validation loss: 0.31\n",
            "Epoch 3, validation accuracies: 0.91\n",
            "Epoch 4, train loss: 0.28\n",
            "Epoch 4, validation loss: 0.28\n",
            "Epoch 4, validation accuracies: 0.92\n",
            "Epoch 5, train loss: 0.25\n",
            "Epoch 5, validation loss: 0.25\n",
            "Epoch 5, validation accuracies: 0.93\n"
          ],
          "name": "stdout"
        }
      ]
    },
    {
      "cell_type": "code",
      "metadata": {
        "id": "0X9DTyeR-6Y3",
        "colab_type": "code",
        "colab": {}
      },
      "source": [
        "# nn.Linear(28*28, 64),\n",
        "# nn.ReLU(),\n",
        "# nn.Linear(64, 64),\n",
        "# nn.ReLU(),\n",
        "# nn.Linear(64, 10)\n",
        "\n",
        "\n",
        "class ResNet(nn.Module):\n",
        "  def __init__(self):\n",
        "    super().__init__()\n",
        "    self.l1 = nn.Linear(28*28, 64)\n",
        "    self.l2 = nn.Linear(64, 64)\n",
        "    self.l3 = nn.Linear(64, 10)\n",
        "    self.do = nn.Dropout(0.1)\n",
        "  def forward(self, x):\n",
        "    h1 = nn.functional.relu(self.l1(x))\n",
        "    h2 = nn.functional.relu(self.l2(h1))\n",
        "    # print(\"Debugging: \",h1.shape, \" \",h2.shape)\n",
        "    do = self.do(h2 + h1)\n",
        "    logits = self.l3(do)\n",
        "    return logits\n",
        "model = ResNet()"
      ],
      "execution_count": null,
      "outputs": []
    },
    {
      "cell_type": "code",
      "metadata": {
        "id": "ChEu1Z0A1kad",
        "colab_type": "code",
        "colab": {}
      },
      "source": [
        ""
      ],
      "execution_count": null,
      "outputs": []
    },
    {
      "cell_type": "code",
      "metadata": {
        "id": "7SZ7V-zwu3Be",
        "colab_type": "code",
        "colab": {}
      },
      "source": [
        "params = model.parameters()\n",
        "optimiser = optim.SGD(model.parameters(), lr=1e-2)\n",
        "loss = nn.CrossEntropyLoss()"
      ],
      "execution_count": null,
      "outputs": []
    },
    {
      "cell_type": "code",
      "metadata": {
        "id": "RWFN0WY2ZJ4C",
        "colab_type": "code",
        "colab": {
          "base_uri": "https://localhost:8080/",
          "height": 353
        },
        "outputId": "059beaa1-1e4a-48f5-b829-4673777fa5c9"
      },
      "source": [
        "nb_epochs = 5\n",
        "for epoch in range(nb_epochs):\n",
        "  losses = list()\n",
        "  accuracies = list()\n",
        "  model.train()\n",
        "  for batch in train_loader:\n",
        "    #x: b x 1x 28 x 28\n",
        "    x, y = batch\n",
        "    b = x.size(0)\n",
        "    # print(\"Debugging  x.size(0): \", x.size(0))\n",
        "    # print(\"Debugging  x.view(b, -1): \",x.view(b, -1).shape)\n",
        "    x = x.view(b, -1)       #send x to cuda after creating the Resnet because it was definded on CPU\n",
        "\n",
        "    # 1 forward\n",
        "    l = model(x)  #l: logits\n",
        "\n",
        "    # 2\n",
        "    J = loss(l, y)           #y here too\n",
        "\n",
        "    # 3 cleaning the gradients\n",
        "    model.zero_grad()\n",
        "    # optimiser.zero_grad()\n",
        "    # params.grad._zero()\n",
        "\n",
        "    # 4 accumulate the partial derivative of J with respect to param\n",
        "    J.backward()\n",
        "\n",
        "\n",
        "    # 5 step in the opposite direction of the gradient\n",
        "    optimiser.step()\n",
        "    # with torch.no_grad(): params = params - eta * params.grad\n",
        "    losses.append(J.item())\n",
        "    # accuracies.append(y.eq(l.detch().argmax(dim=1)).float().mean())\n",
        "    accuracies.append(y.eq(l.argmax(dim=1).cpu()).float().mean())\n",
        "    # accuracies.append(y.eq(l.detch().argmax(dim=1)).float().mean())\n",
        "\n",
        "  print(f'Epoch {epoch + 1}, train loss: {torch.tensor(losses).mean():.2f}')\n",
        "  print(f'Epoch {epoch + 1}, train accuracies: {torch.tensor(accuracies).mean():.2f}')\n",
        "\n",
        "\n",
        "\n",
        "  losses = list()\n",
        "  accuracies = list()\n",
        "  model.eval()\n",
        "  # for epoch in range(nb_epochs):\n",
        "\n",
        "\n",
        "  for batch in val_loader:\n",
        "    #x: b x 1x 28 x 28\n",
        "    x, y = batch\n",
        "    b = x.size(0)\n",
        "    x = x.view(b, -1)\n",
        "\n",
        "    # 1 forward   \n",
        "    with torch.no_grad():\n",
        "        l = model(x)  #l: logits\n",
        "\n",
        "    # 2\n",
        "    J = loss(l, y)\n",
        "\n",
        "    losses.append(J.item())\n",
        "    accuracies.append(y.eq(l.argmax(dim=1).cpu()).float().mean())\n",
        "\n",
        "  print(f'Epoch {epoch + 1}, validation loss: {torch.tensor(losses).mean():.2f}')\n",
        "  print(f'Epoch {epoch + 1}, validation accuracies: {torch.tensor(accuracies).mean():.2f}')"
      ],
      "execution_count": null,
      "outputs": [
        {
          "output_type": "stream",
          "text": [
            "Epoch 1, train loss: 0.87\n",
            "Epoch 1, train accuracies: 0.77\n",
            "Epoch 1, validation loss: 0.40\n",
            "Epoch 1, validation accuracies: 0.89\n",
            "Epoch 2, train loss: 0.38\n",
            "Epoch 2, train accuracies: 0.89\n",
            "Epoch 2, validation loss: 0.31\n",
            "Epoch 2, validation accuracies: 0.91\n",
            "Epoch 3, train loss: 0.31\n",
            "Epoch 3, train accuracies: 0.91\n",
            "Epoch 3, validation loss: 0.26\n",
            "Epoch 3, validation accuracies: 0.92\n",
            "Epoch 4, train loss: 0.27\n",
            "Epoch 4, train accuracies: 0.92\n",
            "Epoch 4, validation loss: 0.23\n",
            "Epoch 4, validation accuracies: 0.93\n",
            "Epoch 5, train loss: 0.24\n",
            "Epoch 5, train accuracies: 0.93\n",
            "Epoch 5, validation loss: 0.21\n",
            "Epoch 5, validation accuracies: 0.94\n"
          ],
          "name": "stdout"
        }
      ]
    },
    {
      "cell_type": "code",
      "metadata": {
        "id": "N86UijKPbsP8",
        "colab_type": "code",
        "colab": {}
      },
      "source": [
        "class ResNet(nn.Module):\n",
        "    def __init__(self):\n",
        "        super().__init__()\n",
        "        self.l1 = nn.Linear(28 * 28, 64)\n",
        "        self.l2 = nn.Linear(64, 64)\n",
        "        self.l3 = nn.Linear(64, 10)\n",
        "        self.do = nn.Dropout(0.1)\n",
        "\n",
        "    def forward(self, x):\n",
        "        h1 = nn.functional.relu(self.l1(x))\n",
        "        h2 = nn.functional.relu(self.l2(h1))\n",
        "        do = self.do(h2 + h1)\n",
        "        logits = self.l3(do)\n",
        "        return logits\n",
        "model = ResNet()\n"
      ],
      "execution_count": null,
      "outputs": []
    }
  ]
}